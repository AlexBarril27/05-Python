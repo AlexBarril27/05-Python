{
 "nbformat": 4,
 "nbformat_minor": 2,
 "metadata": {
  "language_info": {
   "name": "python",
   "codemirror_mode": {
    "name": "ipython",
    "version": 3
   },
   "version": "3.7.5-final"
  },
  "orig_nbformat": 2,
  "file_extension": ".py",
  "mimetype": "text/x-python",
  "name": "python",
  "npconvert_exporter": "python",
  "pygments_lexer": "ipython3",
  "version": 3,
  "kernelspec": {
   "name": "python37564bit9606402790cd46a2a4ebebd8944cfdb3",
   "display_name": "Python 3.7.5 64-bit"
  }
 },
 "cells": [
  {
   "cell_type": "markdown",
   "metadata": {},
   "source": [
    "# Sets\n",
    "\n",
    "Set in Python is a data structure equivalent to sets in mathematics. It may consist of various elements; the order of elements in a set is undefined. You can add and delete elements of a set, you can iterate the elements of the set, you can perform standard operations on sets (union, intersection, difference). Besides that, you check is an element belongs to a set.add\n",
    "\n",
    "Unlikes list, where the elements are atored as ordered, the order of elements in a set is undefined (moreover, the set elements are usually not stored in order of appearance in the set; this allows checking if a element belongs to a set faster than just going through all elements of the set)."
   ],
   "execution_count": null,
   "outputs": []
  },
  {
   "cell_type": "code",
   "execution_count": null,
   "metadata": {},
   "outputs": [],
   "source": [
    "s = {1, 2, 3}\n",
    "print(s)\n",
    "\n",
    "s = set('querty')\n",
    "print(s)"
   ]
  },
  {
   "cell_type": "code",
   "execution_count": null,
   "metadata": {},
   "outputs": [],
   "source": [
    "A = {1, 2, 3}\n",
    "B = {3, 2, 3, 1}\n",
    "print(A == B)"
   ]
  },
  {
   "cell_type": "code",
   "execution_count": null,
   "metadata": {},
   "outputs": [],
   "source": [
    "A = {1, 2, 3}\n",
    "B = {3, 2, 3, 1}\n",
    "\n",
    "print(A)\n",
    "print(B)"
   ]
  },
  {
   "cell_type": "code",
   "execution_count": null,
   "metadata": {},
   "outputs": [],
   "source": [
    "W = set('Hello')\n",
    "print(W)"
   ]
  },
  {
   "cell_type": "markdown",
   "metadata": {},
   "source": [
    "## Operations with elements\n",
    "\n",
    "You can get the number of elements in the set using the Python function len().\n",
    "\n",
    "You can also iterate over all the elements of the set (in an undefined order) using the loop for."
   ],
   "execution_count": null,
   "outputs": []
  },
  {
   "cell_type": "code",
   "execution_count": null,
   "metadata": {},
   "outputs": [],
   "source": [
    "items = {2, 3, 5, 7, 11}\n",
    "print('Items len: ',len(items))\n",
    "\n",
    "for num in items:\n",
    "    print(num)"
   ]
  },
  {
   "cell_type": "markdown",
   "metadata": {},
   "source": [
    "You can check whether an element belongs to a set using the keyword 'in' in expressions, it return a bool value. Similarly there's the opposite operation not in."
   ],
   "execution_count": null,
   "outputs": []
  },
  {
   "cell_type": "code",
   "execution_count": null,
   "metadata": {},
   "outputs": [],
   "source": [
    "A = {1, 2, 3}\n",
    "print(1 in A, 4 not in A)"
   ]
  },
  {
   "cell_type": "markdown",
   "metadata": {},
   "source": [
    "To add an element to the set there is the method add"
   ],
   "execution_count": null,
   "outputs": []
  },
  {
   "cell_type": "code",
   "execution_count": null,
   "metadata": {},
   "outputs": [],
   "source": [
    "items = {1, 2, 3}\n",
    "items.add(4)\n",
    "\n",
    "print(items)"
   ]
  },
  {
   "cell_type": "markdown",
   "metadata": {},
   "source": [
    "There are two methods to remove an element from a set: discard and remove. Their behavior varies only in case if the deleted item was not in the set. In this case the method discard does nothing and the method remove throws exception KeyError."
   ],
   "execution_count": null,
   "outputs": []
  },
  {
   "cell_type": "code",
   "execution_count": null,
   "metadata": {},
   "outputs": [],
   "source": [
    "items = {1, 2, 3}\n",
    "print(items)\n",
    "items.discard(2)\n",
    "print(items)\n",
    "\n",
    "#items.remove(4)   #uncomment to test"
   ]
  },
  {
   "cell_type": "markdown",
   "metadata": {},
   "source": [
    "pop remove one random element from the set an return its value. If the set is empty, pop generate the exception KeyError."
   ],
   "execution_count": null,
   "outputs": []
  },
  {
   "cell_type": "code",
   "execution_count": null,
   "metadata": {},
   "outputs": [],
   "source": [
    "items = {1, 2, 3}\n",
    "print(items.pop())"
   ]
  },
  {
   "cell_type": "markdown",
   "metadata": {},
   "source": [
    "## Converting set in list"
   ],
   "execution_count": null,
   "outputs": []
  },
  {
   "cell_type": "code",
   "execution_count": null,
   "metadata": {},
   "outputs": [],
   "source": [
    "items = {1, 2, 3}\n",
    "print(items)\n",
    "lst = list(items)\n",
    "print(lst)"
   ]
  },
  {
   "cell_type": "markdown",
   "metadata": {},
   "source": [
    "## Operations on sets\n",
    "\n",
    "List of common operations in Python"
   ],
   "execution_count": null,
   "outputs": []
  },
  {
   "cell_type": "code",
   "execution_count": null,
   "metadata": {},
   "outputs": [],
   "source": [
    "#Union -> Returns a set which is the union of set A and B\n",
    "A = {1, 2, 3}\n",
    "B = {3, 4}\n",
    "print(A.union(B))"
   ]
  },
  {
   "cell_type": "code",
   "execution_count": null,
   "metadata": {},
   "outputs": [],
   "source": [
    "#Update -> Adds all elements of set B to set A\n",
    "A = {1, 2, 3}\n",
    "B = {3, 4}\n",
    "A.update(B)\n",
    "print(A)"
   ]
  },
  {
   "cell_type": "code",
   "execution_count": null,
   "metadata": {},
   "outputs": [],
   "source": [
    "#Intersection -> Returns a set which is the intersection of sets A and B\n",
    "A = {1, 2, 3}\n",
    "B = {3, 4}\n",
    "print(A.intersection(B))\n",
    "print(A)"
   ]
  },
  {
   "cell_type": "code",
   "execution_count": null,
   "metadata": {},
   "outputs": [],
   "source": [
    "#Intersection with modified -> Leaves in the set A only items that belongs to the set B\n",
    "A = {1, 2, 3}\n",
    "B = {3, 4}\n",
    "A.intersection_update(B)\n",
    "print(A)"
   ]
  },
  {
   "cell_type": "code",
   "execution_count": null,
   "metadata": {},
   "outputs": [],
   "source": []
  }
 ]
}