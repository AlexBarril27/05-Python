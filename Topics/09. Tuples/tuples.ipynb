{
 "nbformat": 4,
 "nbformat_minor": 2,
 "metadata": {
  "language_info": {
   "name": "python",
   "codemirror_mode": {
    "name": "ipython",
    "version": 3
   },
   "version": "3.7.5-final"
  },
  "orig_nbformat": 2,
  "file_extension": ".py",
  "mimetype": "text/x-python",
  "name": "python",
  "npconvert_exporter": "python",
  "pygments_lexer": "ipython3",
  "version": 3,
  "kernelspec": {
   "name": "python37564bit9606402790cd46a2a4ebebd8944cfdb3",
   "display_name": "Python 3.7.5 64-bit"
  }
 },
 "cells": [
  {
   "cell_type": "markdown",
   "metadata": {},
   "source": [
    "# Tuples\n",
    "\n",
    "[Documentation](https://docs.python.org/3/c-api/tuple.html)\n",
    "\n",
    "Tuples are another kind of sequence that functions much like a list. The differences between tuples and lists are, the tuples cannot be changed.\n",
    "\n",
    "They have elements witch are indexed starting at 0.\n",
    "\n",
    "Tuples use parentheses and lists use square brackets.\n",
    "\n",
    "Creating a tuple is as simple as putting different comma-separated values between parentheses. Optionally you can put these comma-separated values without parenthesses also."
   ],
   "execution_count": null,
   "outputs": []
  },
  {
   "cell_type": "code",
   "execution_count": null,
   "metadata": {},
   "outputs": [],
   "source": [
    "names = ('Glen', 'Sally', 'Peter')\n",
    "print(names)\n",
    "\n",
    "fruits = 'apple', 'orange', 'kiwi'\n",
    "print(fruits)\n",
    "\n",
    "tuple_empty = tuple()\n",
    "print(tuple_empty)"
   ]
  },
  {
   "cell_type": "markdown",
   "metadata": {},
   "source": [
    "Tuples are immutable object, unlike a list, once you create a tuple, you cannot alter its contents, similar a string"
   ],
   "execution_count": null,
   "outputs": []
  },
  {
   "cell_type": "code",
   "execution_count": null,
   "metadata": {},
   "outputs": [],
   "source": [
    "z = (5, 4, 3)\n",
    "#z[2] = 0  #uncomment to test"
   ]
  },
  {
   "cell_type": "markdown",
   "metadata": {},
   "source": [
    "Others things not allowed with tuples"
   ],
   "execution_count": null,
   "outputs": []
  },
  {
   "cell_type": "code",
   "execution_count": null,
   "metadata": {},
   "outputs": [],
   "source": [
    "x = (3, 2, 1)\n",
    "#x.sort()     #uncomment to test\n",
    "#x.append(5)  #uncomment to test\n",
    "#x.reverse()  #uncomment to test"
   ]
  },
  {
   "cell_type": "code",
   "execution_count": null,
   "metadata": {},
   "outputs": [],
   "source": [
    "l = list()\n",
    "print(dir(l))\n",
    "\n",
    "print('---------')\n",
    "\n",
    "t = tuple()\n",
    "print(dir(t))"
   ]
  },
  {
   "cell_type": "markdown",
   "metadata": {},
   "source": [
    "## So why Tuples?\n",
    "\n",
    "Since Python does not have to build tuple structures to be modifiable, they are simpler and more efficient in terms of memory use and performance than lists.\n",
    "\n",
    "So in out program when we are making \"temporary variables\" we prefer tuples over lists."
   ],
   "execution_count": null,
   "outputs": []
  },
  {
   "cell_type": "markdown",
   "metadata": {},
   "source": [
    "## Tuples and Assigment\n",
    "\n",
    "We can also put a tuple on the left-hand side of a assignment statement.\n",
    "\n",
    "We can even omit the parentheses."
   ],
   "execution_count": null,
   "outputs": []
  },
  {
   "cell_type": "code",
   "execution_count": null,
   "metadata": {},
   "outputs": [],
   "source": [
    "(x, y) = (4, 'Peter')\n",
    "print (y)\n",
    "\n",
    "a, b = (99, 98)\n",
    "print (a)"
   ]
  },
  {
   "cell_type": "markdown",
   "metadata": {},
   "source": [
    "## Tuples and Dictionaries\n",
    "\n",
    "The items() method in dictionaries returns a list of (key,value) tuples."
   ],
   "execution_count": null,
   "outputs": []
  },
  {
   "cell_type": "code",
   "execution_count": null,
   "metadata": {},
   "outputs": [],
   "source": [
    "d = dict()\n",
    "d['csev'] = 2\n",
    "d['cwen'] = 4\n",
    "for (k,v) in d.items():\n",
    "    print(k, v)\n",
    "\n",
    "tups = d.items()\n",
    "print(tups)"
   ]
  },
  {
   "cell_type": "markdown",
   "metadata": {},
   "source": [
    "## Tuples are Comparable\n",
    "\n",
    "The comparison operators work with tuples and other sequences. If the first item is equal, Python goes on the next element, and so on, until it finds elements that differ."
   ],
   "execution_count": null,
   "outputs": []
  },
  {
   "cell_type": "code",
   "execution_count": null,
   "metadata": {},
   "outputs": [],
   "source": [
    "print( (0, 1, 2) < (5, 1, 2) )\n",
    "\n",
    "print( (0, 1, 20000) < (0, 3, 4) )\n",
    "\n",
    "print( ('Jones', 'Sally') < ('Jones', 'Sam') )\n",
    "\n",
    "print( ('Jones', 2) < ('Jones', 1) )"
   ]
  },
  {
   "cell_type": "markdown",
   "metadata": {},
   "source": [
    "## Sortings Lists of Tuples\n",
    "\n",
    "We can take advantage of the ability to sort a list of tuples to get a sorted version of a dictionary.\n",
    "\n",
    "First we sort the dictionary by the key using the items() method and sorted() function."
   ],
   "execution_count": null,
   "outputs": []
  },
  {
   "cell_type": "code",
   "execution_count": null,
   "metadata": {},
   "outputs": [],
   "source": [
    "d = {'a' : 10, 'c' : 22, 'b' : 1}\n",
    "print(d.items())\n",
    "\n",
    "print(sorted(d.items()))"
   ]
  },
  {
   "cell_type": "code",
   "execution_count": null,
   "metadata": {},
   "outputs": [],
   "source": [
    "d = {'a' : 10, 'c' : 22, 'b' : 1}\n",
    "for k, v in sorted(d.items()):\n",
    "    print(k, v)"
   ]
  },
  {
   "cell_type": "markdown",
   "metadata": {},
   "source": [
    "If we could construct a list of tuples of the form (value, key) we could sort by value.\n",
    "\n",
    "We do this with a for loop that creates a list of tuples."
   ],
   "execution_count": null,
   "outputs": []
  },
  {
   "cell_type": "code",
   "execution_count": null,
   "metadata": {},
   "outputs": [],
   "source": [
    "c = {'a': 10, 'c' : 22, 'b' : 1}\n",
    "temp = list()\n",
    "for k, v in c.items():\n",
    "    temp.append((v,k))\n",
    "\n",
    "print(temp)\n",
    "temp = sorted(temp, reverse=True)\n",
    "print(temp)"
   ]
  },
  {
   "cell_type": "markdown",
   "metadata": {},
   "source": [
    "## The top 10 most common words"
   ],
   "execution_count": null,
   "outputs": []
  },
  {
   "cell_type": "code",
   "execution_count": null,
   "metadata": {},
   "outputs": [],
   "source": [
    "fhand = open('text.txt')\n",
    "counts = {}\n",
    "for line in fhand:\n",
    "    words = line.split()\n",
    "    for word in words:\n",
    "        counts[word] = counts.get(word, 0 ) + 1\n",
    "\n",
    "lst = []\n",
    "for key, val in counts.items():\n",
    "    newtup = (val, key)\n",
    "    lst.append(newtup)\n",
    "\n",
    "lst = sorted(lst, reverse=True)\n",
    "\n",
    "for val, key in lst[:10] :\n",
    "    print(key, val)"
   ]
  },
  {
   "cell_type": "markdown",
   "metadata": {},
   "source": [
    "Even shorter version, for Python champions"
   ],
   "execution_count": null,
   "outputs": []
  },
  {
   "cell_type": "code",
   "execution_count": null,
   "metadata": {},
   "outputs": [],
   "source": [
    "c = {'a' : 10, 'c' : 22, 'b' : 1}\n",
    "print(sorted([ (v,k) for k,v in c.items() ]))"
   ]
  }
 ]
}